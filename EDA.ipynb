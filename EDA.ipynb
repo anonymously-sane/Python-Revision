{
 "cells": [
  {
   "cell_type": "code",
   "execution_count": 3,
   "metadata": {},
   "outputs": [],
   "source": [
    "#Importing libraries with their aliases\n",
    "import pandas as pd\n",
    "import numpy as np\n",
    "import math as ma\n",
    "import seaborn as sns\n",
    "#import category_encoders as ce"
   ]
  },
  {
   "cell_type": "code",
   "execution_count": 5,
   "metadata": {
    "scrolled": true
   },
   "outputs": [],
   "source": [
    "#Reading data\n",
    "df = pd.read_csv(\"C:/Users/sangam.kushwaha/Desktop/Portable Python/Portable Python/notebooks/Dataset/train.csv\",na_values = ['-','.',''])"
   ]
  },
  {
   "cell_type": "code",
   "execution_count": null,
   "metadata": {
    "scrolled": true
   },
   "outputs": [],
   "source": [
    "#Information on data\n",
    "df.shape\n",
    "df.info()\n",
    "df.describe()"
   ]
  },
  {
   "cell_type": "code",
   "execution_count": 163,
   "metadata": {
    "scrolled": false
   },
   "outputs": [],
   "source": [
    "# #Data Cleaning\n",
    "# df['Age'] = df['Age'].fillna(df['Age'].mean())\n",
    "# df['Age'] = df['Age'].apply(np.ceil)\n",
    "# df['Cabin'] = df['Cabin'].fillna('NULL')\n",
    "# df['Fare'] = round(df['Fare'],2)\n",
    "# df['Embarked'] = df['Embarked'].replace({ 'S' : 'Southampton', 'C' :'Cherbourg' , 'Q' : 'Queensland' })"
   ]
  },
  {
   "cell_type": "code",
   "execution_count": 143,
   "metadata": {},
   "outputs": [],
   "source": [
    "#UNIVARIATE ANALYSIS\n",
    "#Survivors\n",
    "#df['Survived'].value_counts().plot.bar()\n",
    "#Ticket Class\n",
    "#df['Pclass'].value_counts().sort_index().plot.bar()\n",
    "#Sex\n",
    "#df['Sex'].value_counts().plot.bar()\n",
    "#Age {removed age 0 & 1 for representation}\n",
    "#df.loc[df['Age'].between(2,df['Age'].max())].Age.value_counts().sort_index().plot.line()\n",
    "#Siblings & Spouses\n",
    "#df['SibSp'].value_counts().sort_index().plot.bar()\n",
    "#Parents & Children\n",
    "#df['Parch'].value_counts().sort_index().plot.bar()\n",
    "#Fare\n",
    "#df['Fare'].value_counts().sort_index().plot.line()\n",
    "#Port of Embarkation\n",
    "#df['Embarked'].value_counts().plot.bar()"
   ]
  },
  {
   "cell_type": "code",
   "execution_count": 144,
   "metadata": {},
   "outputs": [],
   "source": [
    "#UNIVRIATE ANALYSIS WITH CONDITION {Survivor}\n",
    "#sns.countplot(x ='Pclass',hue = 'Survived',data = df)\n",
    "#sns.countplot(x ='Sex',hue = 'Survived',data = df)\n",
    "#sns.displot(x = 'Age',hue = 'Survived',data = df)\n",
    "#sns.countplot(x = 'SibSp',hue = 'Survived',data = df)\n",
    "#sns.countplot(x = 'Parch',hue = 'Survived',data = df)\n",
    "#sns.displot(x = 'Fare',hue = 'Survived',data = df)\n",
    "#sns.countplot(x= 'Embarked', hue = 'Survived', data=df)"
   ]
  },
  {
   "cell_type": "code",
   "execution_count": 154,
   "metadata": {},
   "outputs": [],
   "source": [
    "# #BIVARIATE ANALYSIS\n",
    "# temp = df[[\"Survived\",\"Pclass\",\"Age\",\"Fare\"]]\n",
    "# sns.pairplot(temp, hue=\"Survived\")"
   ]
  },
  {
   "cell_type": "code",
   "execution_count": 158,
   "metadata": {},
   "outputs": [],
   "source": [
    "# #CORRELATION ANALSIS\n",
    "# #Computing correlation matrix\n",
    "# corr = df.corr()\n",
    "# #Generate a mask for the upper triangle\n",
    "# mask = np.triu(np.ones_like(corr, dtype=bool))\n",
    "# #Set up the matplotlib figure\n",
    "# f, ax = plt.subplots(figsize=(11, 9))\n",
    "# # Generate a custom diverging colormap\n",
    "# cmap = sns.diverging_palette(230, 20, as_cmap=True)\n",
    "# # Draw the heatmap with the mask and correct aspect ratio\n",
    "# sns.heatmap(corr, mask=mask, cmap=cmap, vmax=.3, center=0,square=True, linewidths=.5, cbar_kws={\"shrink\": .5})"
   ]
  },
  {
   "cell_type": "code",
   "execution_count": null,
   "metadata": {
    "scrolled": true
   },
   "outputs": [],
   "source": [
    "# BOXPLOTS to check data spread and behavior\n",
    "#sns.boxplot(x=\"Survived\", y=\"Age\", data=df,whis=[0, 100], width=.6, palette=\"vlag\")\n",
    "#sns.boxplot(x=\"Pclass\", y=\"Age\", data=df,whis=[0, 100], width=.6, palette=\"vlag\")\n",
    "#sns.boxplot(x=\"Sex\", y=\"Age\", data=df,whis=[0, 100], width=.6, palette=\"vlag\")\n",
    "#sns.boxplot(x=\"Survived\", y=\"Fare\", data=df,whis=[0, 100], width=.6, palette=\"vlag\")\n",
    "#sns.boxplot(x=\"Pclass\", y=\"Fare\", data=df,whis=[0, 100], width=.6, palette=\"vlag\")\n",
    "#sns.boxplot(x=\"Sex\", y=\"Fare\", data=df,whis=[0, 100], width=.6, palette=\"vlag\")"
   ]
  },
  {
   "cell_type": "code",
   "execution_count": 159,
   "metadata": {},
   "outputs": [],
   "source": [
    "# FEATURE SCALING\n",
    "# 1)Gradient Descent Based Algorithms [linear regression, logistic regression, neural network] : Having features on a similar scale can help the gradient descent converge more quickly towards the minima.\n",
    "# 2)Distance Based Algorithms [KNN, K-means, SVM] : We scale our data before employing a distance based algorithm so that all the features contribute equally to the result.\n",
    "# 3)Tree Based Algorithms [Decision Trees] : No effect\n",
    "\n",
    "# TECHNIQUES\n",
    "# 1)Normalization : is a scaling technique in which values are shifted and rescaled so that they end up ranging between 0 and 1. It is also known as Min-Max scaling.\n",
    "#     X=(x-xmin)/(xmax-xmin)\n",
    "#   Used when you know that the distribution of your data does not follow a Gaussian distribution. This can be useful in algorithms that do not assume any distribution of the data like K-Nearest Neighbors and Neural Networks.\n",
    "# 2)Standardization : is another scaling technique where the values are centered around the mean with a unit standard deviation. This means that the mean of the attribute becomes zero and the resultant distribution has a unit standard deviation.\n",
    "#     X=(x-mean)/s.d.\n",
    "#   Helpful in cases where the data follows a Gaussian distribution. However, this does not have to be necessarily true.\n",
    "\n",
    "# NORMALIZATION SYNTAX IN PYTHON\n",
    "#     from sklearn.preprocessing import MinMaxScaler\n",
    "#     norm = MinMaxScaler().fit(df)\n",
    "#     transformed_df = norm.transform(df)\n",
    "    \n",
    "# STANDARDIZATION SYNTAX IN PYTHON {apply only to mumerical columns}\n",
    "#     from sklearn.preprocessing import StandardScaler\n",
    "#     num_cols = ['colA','colB','colC','colD']\n",
    "#     for i in num_cols:\n",
    "#         scale = StandardScaler().fit(df[[i]])\n",
    "#         df[i] = scale.transform(df[[i]])"
   ]
  },
  {
   "cell_type": "code",
   "execution_count": null,
   "metadata": {},
   "outputs": [],
   "source": [
    "# DEALING WITH CATEGORICAL DATA\n",
    "# Need to convert cateogrical data into numerical data\n",
    "\n",
    "# TECHNIQUES\n",
    "# 1)Replacing Values : Replace the respective category with desired numbers.\n",
    "#     Method 1 -> labels = df['col_name'].astype('category').cat.categories.tolist()\n",
    "#                 replacement_mapping = {'col_name' : {k: v for k,v in zip(labels,list(range(1,len(labels)+1)))}}\n",
    "#                 df.replace(replacement_mapping,inplace=TRUE)\n",
    "#                 print(df['col_name'].dtypes)\n",
    "# 2)Encoding Labels : Numerical labels between 0 to disctinct(categories in that column)-1.\n",
    "#     Method 1 -> df['col_name'] = df['col_name'].cat.codes\n",
    "#     Method 2 -> df['col_name'] = np.where(df['col_name'].str.contains('label_name'),1,0)\n",
    "#     Method 3 -> from sklearn.preprocessing import LabelEncoder\n",
    "#                 make_labels = LabelEncoder()\n",
    "#                 df['col_name'] = make_labels.fit_transform(df['col_name'])\n",
    "# 3)One Hot Encoding : Convert each category into a new column and assign a logical value to the column based on occurence.Not good if there are many categories.\n",
    "#     Method 1 -> pd.get_dummies(df, columns=['col_name']), prefix=['encoded_']\n",
    "#     Method 2 -> from sklearn.preprocessing import LabelBinarizer\n",
    "#                 make_labels = LabelBinarizer()\n",
    "#                 newdf = pd.DataFrame(make_labels.fit_transform(df['col_name']), columns=make_labels.classes_)\n",
    "#                 finaldf = pd.concat([df,newdf],axis=1)\n",
    "# 4)Binary Encoding : First the categories are encoded as ordinal, then those integers are converted into binary code, then the digits from that binary string are split into separate columns. This encodes the data in fewer dimensions than one-hot.\n",
    "#     Method 1 -> import category_encoders as ce\n",
    "#                 encoder_call = ce.BinaryEncoder(cols=['col_name'])\n",
    "#                 newdf = encoder_call.fit_transform(df)  \n",
    "            \n",
    "# #For imported dataset we do not have any categorical data column so no encoding is required."
   ]
  },
  {
   "cell_type": "code",
   "execution_count": null,
   "metadata": {},
   "outputs": [],
   "source": [
    "# DEALING WITH DATA IMBALANCE\n",
    "# Most machine learning algorithms work best when the number of samples in each class are about equal. This is because most algorithms are designed to maximize accuracy and reduce errors.\n",
    "# Data imbalance fails to capture the minority class which is most often the point of creating the model in the first place.\n",
    "# Examples : Fraud Detection, Spam Filtering, Disease Screening, etc.\n",
    "\n",
    "# TECHNIQUES\n",
    "# 1)Resampling :  Remove few samples from majority class and add few samples in minority class.\n",
    "#         {Python syntax}\n",
    "#         #{UNDERsampling Python syntax} \n",
    "#         a_count,b_count = df['Survived'].value_counts()\n",
    "#         a = df[df['Survived']==0]\n",
    "#         b = df[df['Survived']==1]\n",
    "#         new_a_with_same_b_count = a.sample(b_count)\n",
    "#         newdf = pd.concat([new_a_with_same_b_count,b],axis=0)\n",
    "#         #{OVERsampling Python syntax}\n",
    "#         new_b_with_same_a_count = b.sample(a_count, replace=TRUE)\n",
    "#         newdf = pd.concat([a,new_b_with_same_a_count],axis=0)\n",
    "# 2)Using imblearn package\n",
    "#         #{UNDERsampling Python syntax} \n",
    "#         import imblearn\n",
    "#         form imblearn.under_sampling import RandomUnderSampler\n",
    "#         temp = RandomUnderSampler(random_state=42,replacement=TRUE)\n",
    "#         x_temp,y_temp = temp.fit_resample(x,y)\n",
    "#         #{OVERsampling Python syntax} \n",
    "#         import imblearn\n",
    "#         form imblearn.over_sampling import RandomOverSampler\n",
    "#         temp = RandomOverSampler(random_state=42)\n",
    "#         x_temp,y_temp = temp.fit_resample(x,y)\n",
    "#         #{y_temp} is resampled dataframe\n",
    "                \n",
    "# Following metrics can provide better insights over accuracy for an imbalanced data:\n",
    "# ->Confusion matrix\n",
    "# ->Precision\n",
    "# ->Recall\n",
    "# ->F1 Score\n",
    "# ->Area Under ROC Curve\n",
    "\n",
    "# UNDERsampling advantages & disadvantages\n",
    "# (+)Helps improve run time by reducing data\n",
    "# (-)Causes loss of information\n",
    "# (-)Samples get biased leading to inaccurate results\n",
    "# OVERsampling advantages & disadvantages \n",
    "# (+)Retains correct information and outperforms under sampling.\n",
    "# (-)Cause overfitting and poor generalization."
   ]
  },
  {
   "cell_type": "code",
   "execution_count": 18,
   "metadata": {},
   "outputs": [],
   "source": []
  }
 ],
 "metadata": {
  "kernelspec": {
   "display_name": "Python 3",
   "language": "python",
   "name": "python3"
  },
  "language_info": {
   "codemirror_mode": {
    "name": "ipython",
    "version": 3
   },
   "file_extension": ".py",
   "mimetype": "text/x-python",
   "name": "python",
   "nbconvert_exporter": "python",
   "pygments_lexer": "ipython3",
   "version": "3.9.0"
  }
 },
 "nbformat": 4,
 "nbformat_minor": 4
}
